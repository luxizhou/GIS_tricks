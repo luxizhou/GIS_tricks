{
 "cells": [
  {
   "cell_type": "code",
   "execution_count": 1,
   "metadata": {},
   "outputs": [],
   "source": [
    "import numpy as np\n",
    "import pandas as pd\n",
    "import matplotlib.pyplot as plt\n",
    "#import seaborn as sns; sns.set()\n",
    "import os\n",
    "\n",
    "from geopandas import GeoDataFrame\n",
    "from shapely.geometry import Point\n",
    "from shapely.geometry import Polygon\n",
    "from shapely.geometry import LinearRing\n",
    "import geopandas as gpd\n",
    "from fiona.crs import from_epsg\n",
    "\n",
    "%matplotlib inline\n",
    "%load_ext autoreload\n",
    "%autoreload 2"
   ]
  },
  {
   "cell_type": "code",
   "execution_count": 2,
   "metadata": {},
   "outputs": [],
   "source": [
    "cols = [0,1,4,12,13,19,20,21,22,26,30,31,32]\n",
    "# Read in data file line by line "
   ]
  },
  {
   "cell_type": "code",
   "execution_count": 23,
   "metadata": {},
   "outputs": [
    {
     "name": "stdout",
     "output_type": "stream",
     "text": [
      "Wall time: 26 s\n"
     ]
    }
   ],
   "source": [
    "# Method 1 to read in exposure file\n",
    "infile = r'\\\\edc\\RS\\Earthquake\\Model\\Model_052\\V_08.00.0.00\\LossSimulation\\EQLossSim\\data\\Exposure\\IndExpoRun01_JapanInsurable12EQ_pa.upx'\n",
    "f = open(infile)\n",
    "lines = f.readlines()\n",
    "tst = [np.array(line.rstrip().split(',')) for line in lines if line[:2]=='63']\n",
    "\n",
    "%%time\n",
    "df = pd.DataFrame(tst)\n",
    "cols = [0,1,4,12,13,16,19,20,21,22,25,26,29,30,31,32]\n",
    "names = ['RT','PolicyID','GridID','Lat','Lon','Currency','RepA','RepB','RepC','RepD', \\\n",
    "         'Cons_CodeType','Cons','Occu_CodeType','Occu','YearBuilt','Height']\n",
    "df = df[cols]"
   ]
  },
  {
   "cell_type": "code",
   "execution_count": null,
   "metadata": {},
   "outputs": [],
   "source": [
    "# Method 2 to read in exposure file\n",
    "# Read in data file in chuncks, with the pd.read_csv \n",
    "\n",
    "infile = r'\\\\edc\\RS\\Earthquake\\Model\\Model_052\\V_08.00.0.00\\LossSimulation\\EQLossSim\\data\\Exposure\\IndExpoRun01_JapanInsurable12EQ_pa.upx'\n",
    "cols = [0,1,4,12,13,16,19,20,21,22,25,26,29,30,31,32]\n",
    "names = ['RT','PolicyID','GridID','Lat','Lon','Currency','RepA','RepB','RepC','RepD', \\\n",
    "         'Cons_CodeType','Cons','Occu_CodeType','Occu','YearBuilt','Height']\n",
    "#df = pd.read_csv(infile,nrows=20,skiprows=2,header=None,usecols=cols,names=names)\n",
    "chunk_size = 10000\n",
    "chunk_list = []\n",
    "data_iterator = pd.read_csv(infile,skiprows=2,header=None,usecols=cols,names=names,chunksize=chunk_size)\n",
    "\n",
    "for data_chunk in data_iterator:\n",
    "    idx = data_chunk.RT == 63\n",
    "    filtered_chunk = data_chunk[idx].copy()\n",
    "    chunk_list.append(filtered_chunk)\n",
    "\n",
    "df = pd.concat(chunk_list)\n",
    "\n",
    "df.to_csv('JP_Exposure_2012EQpa.csv',index=None)"
   ]
  },
  {
   "cell_type": "code",
   "execution_count": null,
   "metadata": {},
   "outputs": [],
   "source": [
    "cols = [0,1,15]\n",
    "names=['RT','PolicyID','LoB']\n",
    "chunk_size = 10000\n",
    "chunk_size = 10000\n",
    "chunk_list = []\n",
    "data_iterator = pd.read_csv(infile,skiprows=1,header=None,usecols=cols,names=names,chunksize=chunk_size)\n",
    "\n",
    "for data_chunk in data_iterator:\n",
    "    idx = data_chunk.RT == 60\n",
    "    filtered_chunk = data_chunk[idx].copy()\n",
    "    chunk_list.append(filtered_chunk)\n",
    "\n",
    "df = pd.concat(chunk_list)\n",
    "df.to_csv('JP_Policy_2012EQpa.csv',index=None)"
   ]
  }
 ],
 "metadata": {
  "kernelspec": {
   "display_name": "Python 3",
   "language": "python",
   "name": "python3"
  },
  "language_info": {
   "codemirror_mode": {
    "name": "ipython",
    "version": 3
   },
   "file_extension": ".py",
   "mimetype": "text/x-python",
   "name": "python",
   "nbconvert_exporter": "python",
   "pygments_lexer": "ipython3",
   "version": "3.6.8"
  }
 },
 "nbformat": 4,
 "nbformat_minor": 4
}
