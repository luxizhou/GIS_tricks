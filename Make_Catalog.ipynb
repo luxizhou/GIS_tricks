{
 "cells": [
  {
   "cell_type": "code",
   "execution_count": 153,
   "metadata": {},
   "outputs": [
    {
     "name": "stdout",
     "output_type": "stream",
     "text": [
      "The autoreload extension is already loaded. To reload it, use:\n",
      "  %reload_ext autoreload\n"
     ]
    }
   ],
   "source": [
    "import numpy as np\n",
    "import pandas as pd\n",
    "import matplotlib.pyplot as plt\n",
    "from scipy import stats\n",
    "#import seaborn as sns; sns.set()\n",
    "import os\n",
    "import random\n",
    "\n",
    "%matplotlib inline\n",
    "%load_ext autoreload\n",
    "%autoreload 2"
   ]
  },
  {
   "cell_type": "code",
   "execution_count": 155,
   "metadata": {},
   "outputs": [
    {
     "name": "stdout",
     "output_type": "stream",
     "text": [
      "WorksheetAsteroidModel130611.xlsx\n"
     ]
    }
   ],
   "source": [
    "fname = 'WorksheetAsteroidModel130611.xlsx'\n",
    "print(fname)"
   ]
  },
  {
   "cell_type": "code",
   "execution_count": 156,
   "metadata": {},
   "outputs": [],
   "source": [
    "df = pd.read_excel(fname,index_col=None,names=['year','day','eventID','lon','lat','diameter'])"
   ]
  },
  {
   "cell_type": "code",
   "execution_count": 157,
   "metadata": {},
   "outputs": [],
   "source": [
    "df1 = df.sort_values(by='diameter',ascending=False).reset_index().drop(columns='index')"
   ]
  },
  {
   "cell_type": "code",
   "execution_count": 158,
   "metadata": {},
   "outputs": [],
   "source": [
    "df1 = df1.reset_index()\n",
    "MaxYear = df1.year.max()\n",
    "df1['rate'] = (df.index+1)/MaxYear"
   ]
  },
  {
   "cell_type": "code",
   "execution_count": 159,
   "metadata": {},
   "outputs": [],
   "source": [
    "df1['log_rate'] = np.log10(df1.rate)\n",
    "df1['log_diameter'] = np.log10(df1.diameter)"
   ]
  },
  {
   "cell_type": "code",
   "execution_count": 160,
   "metadata": {},
   "outputs": [],
   "source": [
    "[a,b] = np.polyfit(df1.log_diameter,df1.log_rate,1)"
   ]
  },
  {
   "cell_type": "code",
   "execution_count": 161,
   "metadata": {},
   "outputs": [],
   "source": [
    "def solve_Dmin(ks,dmin,a,b):\n",
    "    \n",
    "    Hist_Catalog = pd.DataFrame(columns=['N','Dmin'])\n",
    "    \n",
    "    N = 1\n",
    "    # formula: np.power(N/10^(6+b), 1/a)\n",
    "    dia = np.power(N/np.power(10.,ks+b),1./a)\n",
    "    Hist_Catalog=Hist_Catalog.append({'N': N, 'Dmin':dia}, ignore_index=True)\n",
    "    \n",
    "    while dia >= dmin:\n",
    "        N = N + 1\n",
    "        dia = np.power(N/np.power(10.,ks+b),1./a)\n",
    "        Hist_Catalog=Hist_Catalog.append({'N': N, 'Dmin':dia}, ignore_index=True)\n",
    "\n",
    "    return Hist_Catalog"
   ]
  },
  {
   "cell_type": "code",
   "execution_count": 91,
   "metadata": {},
   "outputs": [],
   "source": [
    "Hist_Catalog = solve_Dmin(5,10,a,b)\n",
    "Hist_Catalog['log_diameter'] = np.log10(Hist_Catalog.Dmin)\n",
    "Hist_Catalog['log_rate'] = np.log10(Hist_Catalog.N/1e5)"
   ]
  },
  {
   "cell_type": "markdown",
   "metadata": {},
   "source": [
    "# test if the function is right by comparing to the example in the slide --> right\n",
    "example_cat = solve_Dmin(6,10,-2.02181,0.40823)\n",
    "example_cat.head()"
   ]
  },
  {
   "cell_type": "code",
   "execution_count": 92,
   "metadata": {},
   "outputs": [],
   "source": [
    "np.random.seed(1)\n",
    "rds = pd.DataFrame(np.random.uniform(0,1,size=(len(Hist_Catalog.index), 5)), columns=list('ABCDE'))"
   ]
  },
  {
   "cell_type": "code",
   "execution_count": 93,
   "metadata": {},
   "outputs": [],
   "source": [
    "Catalog = pd.DataFrame(columns=['Year','DOY','Lon','Lat','Diameter'])"
   ]
  },
  {
   "cell_type": "code",
   "execution_count": 94,
   "metadata": {},
   "outputs": [],
   "source": [
    "#Catalog['Rate'] = Catalog.N/1e5\n",
    "Catalog['Year'] = round(rds.A*1e5)\n",
    "Catalog['DOY'] = round(rds.B*365)\n",
    "Catalog['Lon'] = -180. + 360.*rds.C\n",
    "Catalog['Lat'] = np.arcsin(2*rds.D-1)/np.pi*180.\n",
    "Catalog['Diameter']=10.*np.power(rds.E,1./a)"
   ]
  },
  {
   "cell_type": "code",
   "execution_count": 95,
   "metadata": {},
   "outputs": [],
   "source": [
    "Catalog = Catalog.sort_values(by=['Diameter'],ascending=False).reset_index().drop(columns='index')\n",
    "Catalog['rate'] = (Catalog.index+1)/1e5\n",
    "Catalog['log_diameter'] = np.log10(Catalog.Diameter)\n",
    "Catalog['log_rate'] = np.log10(Catalog.rate)"
   ]
  },
  {
   "cell_type": "code",
   "execution_count": 147,
   "metadata": {},
   "outputs": [
    {
     "data": {
      "image/png": "[encoded data removed]",
      "text/plain": [
       "<Figure size 432x288 with 1 Axes>"
      ]
     },
     "metadata": {
      "needs_background": "light"
     },
     "output_type": "display_data"
    }
   ],
   "source": [
    "fig,ax=plt.subplots(figsize=(6,4))\n",
    "df1.plot(x='log_diameter',y='log_rate',linestyle='None',marker='.',markersize=10,label='Obs',ax=ax)\n",
    "Hist_Catalog.plot(x='log_diameter',y='log_rate',linestyle='None',marker='.',markersize=10,alpha=0.5,label='Deterministic',ax=ax)\n",
    "Catalog.plot(x='log_diameter',y='log_rate',linestyle='None',marker='.',markersize=10,alpha=0.5,label='Probablistic',ax=ax)\n",
    "x_min,x_max=ax.get_xlim()\n",
    "y_min= a*x_min+b\n",
    "y_max= a*x_max+b\n",
    "ax.plot([x_min,x_max],[y_min,y_max],linestyle='--',c='grey',linewidth=2,label='fitted')\n",
    "ax.set_ylabel('log_rate')\n",
    "ax.legend(frameon=False)\n",
    "fig.savefig('Q3.png')"
   ]
  },
  {
   "cell_type": "code",
   "execution_count": 149,
   "metadata": {},
   "outputs": [],
   "source": [
    "Catalog = Catalog.sort_values(by=['Year','DOY'])"
   ]
  },
  {
   "cell_type": "code",
   "execution_count": 152,
   "metadata": {},
   "outputs": [],
   "source": [
    "Catalog.to_csv('Q3_Catalog.csv',columns=['Year','DOY','Lon','Lat','Diameter'],index=None)"
   ]
  }
 ],
 "metadata": {
  "kernelspec": {
   "display_name": "Python 3",
   "language": "python",
   "name": "python3"
  },
  "language_info": {
   "codemirror_mode": {
    "name": "ipython",
    "version": 3
   },
   "file_extension": ".py",
   "mimetype": "text/x-python",
   "name": "python",
   "nbconvert_exporter": "python",
   "pygments_lexer": "ipython3",
   "version": "3.7.3"
  }
 },
 "nbformat": 4,
 "nbformat_minor": 4
}
